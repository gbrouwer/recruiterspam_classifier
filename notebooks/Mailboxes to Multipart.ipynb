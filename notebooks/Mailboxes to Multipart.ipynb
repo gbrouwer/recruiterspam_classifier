{
 "cells": [
  {
   "cell_type": "markdown",
   "metadata": {},
   "source": [
    "### Import"
   ]
  },
  {
   "cell_type": "code",
   "execution_count": 136,
   "metadata": {},
   "outputs": [],
   "source": [
    "import os\n",
    "import imaplib, email\n",
    "import mailbox\n",
    "import email.utils\n",
    "from tqdm import tqdm"
   ]
  },
  {
   "cell_type": "markdown",
   "metadata": {},
   "source": [
    "### Parameters"
   ]
  },
  {
   "cell_type": "code",
   "execution_count": 137,
   "metadata": {},
   "outputs": [],
   "source": [
    "no_emails_per_part = 100\n",
    "mail_boxes = ['recruiter_spam','all_inboxes']"
   ]
  },
  {
   "cell_type": "markdown",
   "metadata": {},
   "source": [
    "### Write to File"
   ]
  },
  {
   "cell_type": "code",
   "execution_count": 138,
   "metadata": {},
   "outputs": [],
   "source": [
    "def write_lines_to_file(lines,filename):\n",
    "    \n",
    "    #Output\n",
    "    with open(filename,'w') as f:\n",
    "        for line in lines:\n",
    "            f.write(line + '\\n')"
   ]
  },
  {
   "cell_type": "markdown",
   "metadata": {},
   "source": [
    "### Get Line Count"
   ]
  },
  {
   "cell_type": "code",
   "execution_count": 139,
   "metadata": {},
   "outputs": [],
   "source": [
    "def get_line_count(filename):\n",
    "    \n",
    "    #Get Line Count\n",
    "    cmd = 'wc -l ' + filename + ' | cat > wc.txt '\n",
    "    os.system(cmd)\n",
    "    with open('wc.txt','r') as f:\n",
    "        for line in f:\n",
    "            elements = line.split(' ')\n",
    "            elements = [element for element in elements if len(element) > 0]\n",
    "            no_lines = int(elements[0])\n",
    "    \n",
    "    #Remove file\n",
    "    os.system('rm wc.txt')\n",
    "\n",
    "    #Return\n",
    "    return no_lines"
   ]
  },
  {
   "cell_type": "markdown",
   "metadata": {},
   "source": [
    "### Chunck Mailboxes"
   ]
  },
  {
   "cell_type": "code",
   "execution_count": 141,
   "metadata": {},
   "outputs": [
    {
     "name": "stderr",
     "output_type": "stream",
     "text": [
      "100%|██████████| 180897/180897 [00:00<00:00, 876314.80it/s]\n",
      "100%|██████████| 14030966/14030966 [00:17<00:00, 793514.30it/s] \n"
     ]
    }
   ],
   "source": [
    "for mailbox in mail_boxes:\n",
    "    \n",
    "    #Init\n",
    "    multi_part = []\n",
    "    part_number = 0\n",
    "    email_number = 0\n",
    "\n",
    "    #Get Line Count\n",
    "    filename = '../data/' + mailbox + '/original/mbox'\n",
    "    no_lines = get_line_count(filename)\n",
    "\n",
    "    #Loop through all email in inbox\n",
    "    with open('../data/' + mailbox + '/original/mbox','r',) as f:\n",
    "        for l in tqdm(range(no_lines)):\n",
    "            try:\n",
    "                line = f.readline()\n",
    "                if 'From: ' in line[:10]:\n",
    "                    email_number = email_number + 1\n",
    "                    if (email_number > no_emails_per_part):\n",
    "                        email_number = 0\n",
    "                        savefile = '../data/' + mailbox + '/multi_part/mbox_' + str(part_number)\n",
    "                        write_lines_to_file(multi_part,savefile)\n",
    "                        part_number = part_number + 1\n",
    "                        multi_part = [line.rstrip()]\n",
    "                    else:\n",
    "                        multi_part.append(line.rstrip())                \n",
    "                else:\n",
    "                    multi_part.append(line.rstrip())\n",
    "            except:\n",
    "                pass"
   ]
  }
 ],
 "metadata": {
  "kernelspec": {
   "display_name": "Python 3",
   "language": "python",
   "name": "python3"
  },
  "language_info": {
   "codemirror_mode": {
    "name": "ipython",
    "version": 3
   },
   "file_extension": ".py",
   "mimetype": "text/x-python",
   "name": "python",
   "nbconvert_exporter": "python",
   "pygments_lexer": "ipython3",
   "version": "3.8.6"
  }
 },
 "nbformat": 4,
 "nbformat_minor": 4
}
